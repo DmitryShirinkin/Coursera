{
 "cells": [
  {
   "cell_type": "markdown",
   "metadata": {},
   "source": [
    "# H1 PART I"
   ]
  },
  {
   "cell_type": "markdown",
   "metadata": {},
   "source": [
    "### H3A description of the problem:\n",
    "\n",
    "The question is: which NY neighborhood should a family choose in order to have the largest number of high-rated schools in the immediate vicinity?"
   ]
  },
  {
   "cell_type": "markdown",
   "metadata": {},
   "source": [
    "### H3 A description of the data and how it will be used to solve the problem:\n",
    "\n",
    "\n",
    "I'll download and explore dataset from https://geo.nyu.edu/catalog/nyu_2451_34572\n",
    "The next steps:\n",
    "- tranform the data into a pandas dataframe\n",
    "- use geopy library to get the latitude and longitude values of New York City\n",
    "- create a map of New York with neighborhoods\n",
    "- use the Foursquare API to explore the neighborhoods and segment them"
   ]
  }
 ],
 "metadata": {
  "kernelspec": {
   "display_name": "Python",
   "language": "python",
   "name": "conda-env-python-py"
  },
  "language_info": {
   "codemirror_mode": {
    "name": "ipython",
    "version": 3
   },
   "file_extension": ".py",
   "mimetype": "text/x-python",
   "name": "python",
   "nbconvert_exporter": "python",
   "pygments_lexer": "ipython3",
   "version": "3.6.11"
  }
 },
 "nbformat": 4,
 "nbformat_minor": 4
}
